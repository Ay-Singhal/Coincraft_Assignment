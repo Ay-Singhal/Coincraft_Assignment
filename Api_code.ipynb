{
 "cells": [
  {
   "cell_type": "code",
   "execution_count": 63,
   "metadata": {},
   "outputs": [],
   "source": [
    "import requests\n",
    "from fastapi import FastAPI\n",
    "\n",
    "app = FastAPI()\n",
    "\n",
    "@app.get(\"/profit\")\n",
    "def calculate_profit(scheme_code, start_date, end_date, capital=1000000.0):\n",
    "    \n",
    "    def get_nav(scheme_code, date):\n",
    "        api_url = f\"https://api.mfapi.in/mf/{scheme_code}\"\n",
    "        response = requests.get(api_url, params={\"date\": date})\n",
    "        data = response.json()[\"data\"]\n",
    "    \n",
    "        for entry in data:\n",
    "            if entry[\"date\"] == date:\n",
    "                return float(entry[\"nav\"])\n",
    "\n",
    "    nav_purchase = get_nav(scheme_code, start_date)\n",
    "    nav_redemption = get_nav(scheme_code, end_date)\n",
    "\n",
    "    units_allotted = capital / nav_purchase\n",
    "    value_redemption = units_allotted * nav_redemption\n",
    "    \n",
    "    net_profit = value_redemption - capital\n",
    "    return net_profit\n"
   ]
  },
  {
   "cell_type": "code",
   "execution_count": 62,
   "metadata": {},
   "outputs": [
    {
     "data": {
      "text/plain": [
       "1.1641532182693481e-10"
      ]
     },
     "execution_count": 62,
     "metadata": {},
     "output_type": "execute_result"
    }
   ],
   "source": [
    "calculate_profit(\"101206\", \"26-07-2023\", \"18-10-2023\", 1000000.0)"
   ]
  },
  {
   "cell_type": "code",
   "execution_count": 60,
   "metadata": {},
   "outputs": [
    {
     "data": {
      "text/plain": [
       "3682.2899"
      ]
     },
     "execution_count": 60,
     "metadata": {},
     "output_type": "execute_result"
    }
   ],
   "source": [
    "get_nav(\"101206\", \"26-07-2023\")"
   ]
  },
  {
   "cell_type": "code",
   "execution_count": 6,
   "metadata": {
    "id": "6gdzpV5ZbRxh"
   },
   "outputs": [],
   "source": [
    "import requests\n",
    "\n",
    "def get_nav(scheme_code, date):\n",
    "    api_url = f\"https://api.mfapi.in/mf/{scheme_code}\"\n",
    "    response = requests.get(api_url, params={\"date\": date})\n",
    "    nav = response.json()[\"data\"][0][\"nav\"]\n",
    "    return nav\n"
   ]
  },
  {
   "cell_type": "code",
   "execution_count": 2,
   "metadata": {
    "colab": {
     "base_uri": "https://localhost:8080/"
    },
    "id": "_VYVmSuZdP6s",
    "outputId": "0618a8c3-4e6d-464f-90f3-0c4302ecb859"
   },
   "outputs": [
    {
     "name": "stdout",
     "output_type": "stream",
     "text": [
      "Collecting fastapi\n",
      "  Downloading fastapi-0.104.1-py3-none-any.whl (92 kB)\n",
      "     ---------------------------------------- 92.9/92.9 kB 1.1 MB/s eta 0:00:00\n",
      "Collecting pydantic!=1.8,!=1.8.1,!=2.0.0,!=2.0.1,!=2.1.0,<3.0.0,>=1.7.4\n",
      "  Downloading pydantic-2.4.2-py3-none-any.whl (395 kB)\n",
      "     -------------------------------------- 395.8/395.8 kB 2.1 MB/s eta 0:00:00\n",
      "Collecting starlette<0.28.0,>=0.27.0\n",
      "  Downloading starlette-0.27.0-py3-none-any.whl (66 kB)\n",
      "     ---------------------------------------- 67.0/67.0 kB ? eta 0:00:00\n",
      "Collecting anyio<4.0.0,>=3.7.1\n",
      "  Downloading anyio-3.7.1-py3-none-any.whl (80 kB)\n",
      "     ---------------------------------------- 80.9/80.9 kB ? eta 0:00:00\n",
      "Collecting typing-extensions>=4.8.0\n",
      "  Downloading typing_extensions-4.8.0-py3-none-any.whl (31 kB)\n",
      "Collecting exceptiongroup\n",
      "  Downloading exceptiongroup-1.1.3-py3-none-any.whl (14 kB)\n",
      "Requirement already satisfied: idna>=2.8 in c:\\users\\prave\\anaconda3\\lib\\site-packages (from anyio<4.0.0,>=3.7.1->fastapi) (3.3)\n",
      "Requirement already satisfied: sniffio>=1.1 in c:\\users\\prave\\anaconda3\\lib\\site-packages (from anyio<4.0.0,>=3.7.1->fastapi) (1.2.0)\n",
      "Collecting pydantic-core==2.10.1\n",
      "  Downloading pydantic_core-2.10.1-cp39-none-win_amd64.whl (2.0 MB)\n",
      "     ---------------------------------------- 2.0/2.0 MB 4.7 MB/s eta 0:00:00\n",
      "Collecting annotated-types>=0.4.0\n",
      "  Downloading annotated_types-0.6.0-py3-none-any.whl (12 kB)\n",
      "Installing collected packages: typing-extensions, exceptiongroup, annotated-types, pydantic-core, anyio, starlette, pydantic, fastapi\n",
      "  Attempting uninstall: typing-extensions\n",
      "    Found existing installation: typing_extensions 4.3.0\n",
      "    Uninstalling typing_extensions-4.3.0:\n",
      "      Successfully uninstalled typing_extensions-4.3.0\n",
      "  Attempting uninstall: anyio\n",
      "    Found existing installation: anyio 3.5.0\n",
      "    Uninstalling anyio-3.5.0:\n",
      "      Successfully uninstalled anyio-3.5.0\n",
      "Successfully installed annotated-types-0.6.0 anyio-3.7.1 exceptiongroup-1.1.3 fastapi-0.104.1 pydantic-2.4.2 pydantic-core-2.10.1 starlette-0.27.0 typing-extensions-4.8.0\n"
     ]
    }
   ],
   "source": [
    "!pip install fastapi\n"
   ]
  },
  {
   "cell_type": "code",
   "execution_count": 20,
   "metadata": {},
   "outputs": [
    {
     "name": "stdout",
     "output_type": "stream",
     "text": [
      "Collecting uvicornNote: you may need to restart the kernel to use updated packages.\n",
      "\n",
      "  Downloading uvicorn-0.24.0.post1-py3-none-any.whl (59 kB)\n",
      "     ---------------------------------------- 59.7/59.7 kB 1.6 MB/s eta 0:00:00\n",
      "Collecting h11>=0.8\n",
      "  Downloading h11-0.14.0-py3-none-any.whl (58 kB)\n",
      "     ---------------------------------------- 58.3/58.3 kB 3.0 MB/s eta 0:00:00\n",
      "Requirement already satisfied: typing-extensions>=4.0 in c:\\users\\prave\\anaconda3\\lib\\site-packages (from uvicorn) (4.8.0)\n",
      "Requirement already satisfied: click>=7.0 in c:\\users\\prave\\anaconda3\\lib\\site-packages (from uvicorn) (8.0.4)\n",
      "Requirement already satisfied: colorama in c:\\users\\prave\\anaconda3\\lib\\site-packages (from click>=7.0->uvicorn) (0.4.5)\n",
      "Installing collected packages: h11, uvicorn\n",
      "Successfully installed h11-0.14.0 uvicorn-0.24.0.post1\n"
     ]
    }
   ],
   "source": [
    "pip install uvicorn"
   ]
  },
  {
   "cell_type": "code",
   "execution_count": 19,
   "metadata": {
    "id": "bbKv3Qd7c7DQ"
   },
   "outputs": [],
   "source": [
    "import requests\n",
    "from fastapi import FastAPI\n",
    "\n",
    "app = FastAPI()\n",
    "\n",
    "@app.get(\"/profit\")\n",
    "async def calculate_profit(scheme_code: str, start_date: str, end_date: str, capital: float = 1000000.0):\n",
    "\n",
    "    def get_nav(scheme_code, date):\n",
    "        api_url = f\"https://api.mfapi.in/mf/{scheme_code}\"\n",
    "        response = requests.get(api_url, params={\"date\": date})\n",
    "        nav = response.json()[\"data\"][0][\"nav\"]\n",
    "        return nav\n",
    "    \n",
    "    \n",
    "\n",
    "    nav_purchase = get_nav(scheme_code, start_date)\n",
    "\n",
    "\n",
    "    nav_redemption = get_nav(scheme_code, end_date)\n",
    "\n",
    "\n",
    "    units_allotted = capital / nav_purchase\n",
    "\n",
    "\n",
    "    value_redemption = units_allotted * nav_redemption\n",
    "\n",
    "    net_profit = value_redemption - capital\n",
    "    \n",
    "    return {\"net_profit\": net_profit}\n"
   ]
  },
  {
   "cell_type": "code",
   "execution_count": 24,
   "metadata": {},
   "outputs": [],
   "source": [
    "%run main.py"
   ]
  },
  {
   "cell_type": "code",
   "execution_count": 25,
   "metadata": {},
   "outputs": [],
   "source": [
    "def get_nav(scheme_code, date):\n",
    "        api_url = f\"https://api.mfapi.in/mf/{scheme_code}\"\n",
    "        response = requests.get(api_url, params={\"date\": date})\n",
    "        nav = response.json()[\"data\"][0][\"nav\"]\n",
    "        return nav"
   ]
  },
  {
   "cell_type": "code",
   "execution_count": 26,
   "metadata": {},
   "outputs": [
    {
     "data": {
      "text/plain": [
       "'3754.08580'"
      ]
     },
     "execution_count": 26,
     "metadata": {},
     "output_type": "execute_result"
    }
   ],
   "source": [
    "get_nav(\"101206\", \"12-10-2023\")"
   ]
  },
  {
   "cell_type": "code",
   "execution_count": null,
   "metadata": {},
   "outputs": [],
   "source": []
  }
 ],
 "metadata": {
  "colab": {
   "provenance": []
  },
  "kernelspec": {
   "display_name": "Python 3 (ipykernel)",
   "language": "python",
   "name": "python3"
  },
  "language_info": {
   "codemirror_mode": {
    "name": "ipython",
    "version": 3
   },
   "file_extension": ".py",
   "mimetype": "text/x-python",
   "name": "python",
   "nbconvert_exporter": "python",
   "pygments_lexer": "ipython3",
   "version": "3.9.13"
  }
 },
 "nbformat": 4,
 "nbformat_minor": 1
}
